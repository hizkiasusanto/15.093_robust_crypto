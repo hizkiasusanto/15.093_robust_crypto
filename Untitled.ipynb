{
 "cells": [
  {
   "cell_type": "code",
   "execution_count": 1,
   "id": "97bc34bd",
   "metadata": {},
   "outputs": [],
   "source": [
    "from utils import *\n",
    "from Config import *\n",
    "from Evaluator import Evaluator"
   ]
  },
  {
   "cell_type": "code",
   "execution_count": 2,
   "id": "c4dd67a9",
   "metadata": {},
   "outputs": [
    {
     "name": "stdout",
     "output_type": "stream",
     "text": [
      "Set parameter Username\n",
      "Academic license - for non-commercial use only - expires 2023-09-03\n",
      "Gurobi Optimizer version 9.5.2 build v9.5.2rc0 (mac64[arm])\n",
      "Thread count: 8 physical cores, 8 logical processors, using up to 8 threads\n",
      "Optimize a model with 8 rows, 7 columns and 14 nonzeros\n",
      "Model fingerprint: 0x448b4766\n",
      "Model has 28 quadratic objective terms\n",
      "Coefficient statistics:\n",
      "  Matrix range     [1e+00, 1e+00]\n",
      "  Objective range  [0e+00, 0e+00]\n",
      "  QObjective range [2e-04, 7e-04]\n",
      "  Bounds range     [0e+00, 0e+00]\n",
      "  RHS range        [1e+00, 1e+00]\n",
      "Presolve removed 7 rows and 0 columns\n",
      "Presolve time: 0.10s\n",
      "Presolved: 1 rows, 7 columns, 7 nonzeros\n",
      "Presolved model has 28 quadratic objective terms\n",
      "Ordering time: 0.00s\n",
      "\n",
      "Barrier statistics:\n",
      " Free vars  : 6\n",
      " AA' NZ     : 2.100e+01\n",
      " Factor NZ  : 2.800e+01\n",
      " Factor Ops : 1.400e+02 (less than 1 second per iteration)\n",
      " Threads    : 1\n",
      "\n",
      "                  Objective                Residual\n",
      "Iter       Primal          Dual         Primal    Dual     Compl     Time\n",
      "   0   3.25711273e+05 -3.25711273e+05  7.00e+03 2.64e-07  1.00e+06     0s\n",
      "   1   3.25802271e-01 -1.59345282e+01  7.03e+00 2.65e-10  1.01e+03     0s\n",
      "   2   1.28876544e-04 -1.55552525e+01  7.03e-06 2.65e-16  2.22e+00     0s\n",
      "   3   1.28874696e-04 -1.54890898e-02  3.15e-11 2.17e-19  2.23e-03     0s\n",
      "   4   1.28488161e-04  5.08595507e-05  9.79e-14 1.73e-18  1.11e-05     0s\n",
      "   5   9.25391654e-05  6.69846288e-05  4.34e-18 1.73e-18  3.65e-06     0s\n",
      "   6   8.66929801e-05  8.53048627e-05  3.47e-18 3.25e-18  1.98e-07     0s\n",
      "   7   8.57762003e-05  8.57152672e-05  1.56e-17 4.91e-19  8.70e-09     0s\n",
      "   8   8.57315743e-05  8.57265483e-05  5.03e-17 2.47e-18  7.18e-10     0s\n",
      "\n",
      "Barrier solved model in 8 iterations and 0.13 seconds (0.00 work units)\n",
      "Optimal objective 8.57315743e-05\n",
      "\n",
      "Gurobi Optimizer version 9.5.2 build v9.5.2rc0 (mac64[arm])\n",
      "Thread count: 8 physical cores, 8 logical processors, using up to 8 threads\n",
      "Optimize a model with 8 rows, 7 columns and 14 nonzeros\n",
      "Model fingerprint: 0x62491ea9\n",
      "Model has 28 quadratic objective terms\n",
      "Coefficient statistics:\n",
      "  Matrix range     [1e+00, 1e+00]\n",
      "  Objective range  [0e+00, 0e+00]\n",
      "  QObjective range [2e-04, 6e-04]\n",
      "  Bounds range     [0e+00, 0e+00]\n",
      "  RHS range        [1e+00, 1e+00]\n",
      "Presolve removed 7 rows and 0 columns\n",
      "Presolve time: 0.02s\n",
      "Presolved: 1 rows, 7 columns, 7 nonzeros\n",
      "Presolved model has 28 quadratic objective terms\n",
      "Ordering time: 0.00s\n",
      "\n",
      "Barrier statistics:\n",
      " Free vars  : 6\n",
      " AA' NZ     : 2.100e+01\n",
      " Factor NZ  : 2.800e+01\n",
      " Factor Ops : 1.400e+02 (less than 1 second per iteration)\n",
      " Threads    : 1\n",
      "\n",
      "                  Objective                Residual\n",
      "Iter       Primal          Dual         Primal    Dual     Compl     Time\n",
      "   0   3.16062509e+05 -3.16062509e+05  7.00e+03 1.05e-07  1.00e+06     0s\n",
      "   1   3.16135173e-01 -1.59250127e+01  7.02e+00 1.05e-10  1.00e+03     0s\n",
      "   2   9.88050680e-05 -1.55552542e+01  7.02e-06 1.02e-16  2.22e+00     0s\n",
      "   3   9.88033738e-05 -1.55014694e-02  2.34e-11 1.73e-18  2.23e-03     0s\n",
      "   4   9.85345929e-05  3.84144999e-05  5.07e-14 4.34e-19  8.59e-06     0s\n",
      "   5   7.29494655e-05  5.93476574e-05  2.60e-18 1.30e-18  1.94e-06     0s\n",
      "   6   6.79326754e-05  6.72762799e-05  3.47e-18 2.60e-18  9.38e-08     0s\n",
      "   7   6.74207188e-05  6.74176857e-05  1.39e-17 2.28e-18  4.33e-10     0s\n",
      "\n",
      "Barrier solved model in 7 iterations and 0.04 seconds (0.00 work units)\n",
      "Optimal objective 6.74207188e-05\n",
      "\n",
      "Gurobi Optimizer version 9.5.2 build v9.5.2rc0 (mac64[arm])\n",
      "Thread count: 8 physical cores, 8 logical processors, using up to 8 threads\n",
      "Optimize a model with 8 rows, 7 columns and 14 nonzeros\n",
      "Model fingerprint: 0xde71d9d2\n",
      "Model has 28 quadratic objective terms\n",
      "Coefficient statistics:\n",
      "  Matrix range     [1e+00, 1e+00]\n",
      "  Objective range  [0e+00, 0e+00]\n",
      "  QObjective range [1e-04, 5e-04]\n",
      "  Bounds range     [0e+00, 0e+00]\n",
      "  RHS range        [1e+00, 1e+00]\n",
      "Presolve removed 7 rows and 0 columns\n",
      "Presolve time: 0.01s\n",
      "Presolved: 1 rows, 7 columns, 7 nonzeros\n",
      "Presolved model has 28 quadratic objective terms\n",
      "Ordering time: 0.00s\n",
      "\n",
      "Barrier statistics:\n",
      " Free vars  : 6\n",
      " AA' NZ     : 2.100e+01\n",
      " Factor NZ  : 2.800e+01\n",
      " Factor Ops : 1.400e+02 (less than 1 second per iteration)\n",
      " Threads    : 1\n",
      "\n",
      "                  Objective                Residual\n",
      "Iter       Primal          Dual         Primal    Dual     Compl     Time\n",
      "   0   2.34989753e+05 -2.34989753e+05  7.00e+03 1.02e-07  1.00e+06     0s\n",
      "   1   2.35054732e-01 -1.58439878e+01  7.01e+00 1.02e-10  1.00e+03     0s\n",
      "   2   7.96671877e-05 -1.55551723e+01  7.01e-06 1.02e-16  2.22e+00     0s\n",
      "   3   7.96659652e-05 -1.55105955e-02  1.89e-11 4.34e-19  2.23e-03     0s\n",
      "   4   7.94980751e-05  2.91497779e-05  3.34e-14 2.17e-19  7.19e-06     0s\n",
      "   5   5.91806167e-05  4.98206719e-05  1.30e-18 3.52e-19  1.34e-06     0s\n",
      "   6   5.47692106e-05  5.41885664e-05  3.47e-18 1.52e-18  8.29e-08     0s\n",
      "   7   5.43568864e-05  5.43546576e-05  1.73e-17 1.05e-18  3.18e-10     0s\n",
      "\n",
      "Barrier solved model in 7 iterations and 0.02 seconds (0.00 work units)\n",
      "Optimal objective 5.43568864e-05\n",
      "\n"
     ]
    }
   ],
   "source": [
    "df = generate_data_df(coins)\n",
    "\n",
    "portfolio_instances = {}\n",
    "\n",
    "for port_name, portfolio in port_classes.items():\n",
    "    portfolio_instances[port_name] = portfolio(coins, df, start_date, rebalance_period)\n",
    "#     portfolio_instances[port_name].backtest(starting_cash=starting_cash)"
   ]
  },
  {
   "cell_type": "code",
   "execution_count": 4,
   "id": "68a4ae6a",
   "metadata": {},
   "outputs": [],
   "source": [
    "self= portfolio_instances['RobustOptimizationPortfolio']"
   ]
  },
  {
   "cell_type": "code",
   "execution_count": 6,
   "id": "b9bf47b8",
   "metadata": {},
   "outputs": [],
   "source": [
    "\n",
    "from BasePortfolio import BasePortfolio\n",
    "from dateutil.relativedelta import relativedelta\n",
    "import pandas as pd\n",
    "import numpy as np\n",
    "import gurobipy as gp\n",
    "from gurobipy import GRB"
   ]
  },
  {
   "cell_type": "code",
   "execution_count": 8,
   "id": "38f2fb9e",
   "metadata": {},
   "outputs": [],
   "source": [
    "n = len(self.coins)\n",
    "        \n",
    "model = gp.Model('robust optimization model')\n",
    "\n",
    "x = model.addMVar(n)\n",
    "k = model.addMVar(n*(n-1))\n",
    "y = model.addMVar(n)\n",
    "model.addConstr(x.sum() == 1)\n",
    "\n",
    "for i in range(n):\n",
    "    model.addConstr(x[i] >= 0)\n",
    "    model.addConstr(y[i] >= 0)\n",
    "for i in range(n*(n-1)):\n",
    "    model.addConstr(k[i] >= 0)\n",
    "    \n",
    "model.setObjective()"
   ]
  },
  {
   "cell_type": "code",
   "execution_count": 61,
   "id": "c0c6d363",
   "metadata": {},
   "outputs": [],
   "source": [
    "A = make_A_matrix(current_returns)"
   ]
  },
  {
   "cell_type": "code",
   "execution_count": 70,
   "id": "9e3a7deb",
   "metadata": {},
   "outputs": [],
   "source": [
    "delta = 0.1"
   ]
  },
  {
   "cell_type": "code",
   "execution_count": 73,
   "id": "9139eb88",
   "metadata": {},
   "outputs": [
    {
     "name": "stdout",
     "output_type": "stream",
     "text": [
      "Collecting cvxpy\n",
      "  Using cached cvxpy-1.2.2-cp310-cp310-macosx_10_9_universal2.whl (1.1 MB)\n",
      "Requirement already satisfied: numpy>=1.15 in /opt/homebrew/lib/python3.10/site-packages (from cvxpy) (1.23.4)\n",
      "Collecting osqp>=0.4.1\n",
      "  Using cached osqp-0.6.2.post8.tar.gz (227 kB)\n",
      "  Installing build dependencies ... \u001b[?25lerror\n",
      "  \u001b[1;31merror\u001b[0m: \u001b[1msubprocess-exited-with-error\u001b[0m\n",
      "  \n",
      "  \u001b[31m×\u001b[0m \u001b[32mpip subprocess to install build dependencies\u001b[0m did not run successfully.\n",
      "  \u001b[31m│\u001b[0m exit code: \u001b[1;36m1\u001b[0m\n",
      "  \u001b[31m╰─>\u001b[0m \u001b[31m[174 lines of output]\u001b[0m\n",
      "  \u001b[31m   \u001b[0m Collecting oldest-supported-numpy\n",
      "  \u001b[31m   \u001b[0m   Using cached oldest_supported_numpy-2022.11.19-py3-none-any.whl (4.9 kB)\n",
      "  \u001b[31m   \u001b[0m Collecting setuptools>=40.8.0\n",
      "  \u001b[31m   \u001b[0m   Using cached setuptools-65.6.3-py3-none-any.whl (1.2 MB)\n",
      "  \u001b[31m   \u001b[0m Collecting wheel\n",
      "  \u001b[31m   \u001b[0m   Using cached wheel-0.38.4-py3-none-any.whl (36 kB)\n",
      "  \u001b[31m   \u001b[0m Collecting setuptools_scm>=6.2\n",
      "  \u001b[31m   \u001b[0m   Using cached setuptools_scm-7.0.5-py3-none-any.whl (42 kB)\n",
      "  \u001b[31m   \u001b[0m Collecting qdldl\n",
      "  \u001b[31m   \u001b[0m   Using cached qdldl-0.1.5.post2.tar.gz (69 kB)\n",
      "  \u001b[31m   \u001b[0m   Preparing metadata (setup.py): started\n",
      "  \u001b[31m   \u001b[0m   Preparing metadata (setup.py): finished with status 'done'\n",
      "  \u001b[31m   \u001b[0m Collecting numpy==1.21.6\n",
      "  \u001b[31m   \u001b[0m   Using cached numpy-1.21.6-cp310-cp310-macosx_11_0_arm64.whl (12.4 MB)\n",
      "  \u001b[31m   \u001b[0m Collecting typing-extensions\n",
      "  \u001b[31m   \u001b[0m   Using cached typing_extensions-4.4.0-py3-none-any.whl (26 kB)\n",
      "  \u001b[31m   \u001b[0m Collecting packaging>=20.0\n",
      "  \u001b[31m   \u001b[0m   Using cached packaging-22.0-py3-none-any.whl (42 kB)\n",
      "  \u001b[31m   \u001b[0m Collecting tomli>=1.0.0\n",
      "  \u001b[31m   \u001b[0m   Using cached tomli-2.0.1-py3-none-any.whl (12 kB)\n",
      "  \u001b[31m   \u001b[0m Collecting scipy>=0.13.2\n",
      "  \u001b[31m   \u001b[0m   Using cached scipy-1.9.3-cp310-cp310-macosx_12_0_arm64.whl (28.5 MB)\n",
      "  \u001b[31m   \u001b[0m Building wheels for collected packages: qdldl\n",
      "  \u001b[31m   \u001b[0m   Building wheel for qdldl (setup.py): started\n",
      "  \u001b[31m   \u001b[0m   Building wheel for qdldl (setup.py): finished with status 'error'\n",
      "  \u001b[31m   \u001b[0m   error: subprocess-exited-with-error\n",
      "  \u001b[31m   \u001b[0m \n",
      "  \u001b[31m   \u001b[0m   × python setup.py bdist_wheel did not run successfully.\n",
      "  \u001b[31m   \u001b[0m   │ exit code: 1\n",
      "  \u001b[31m   \u001b[0m   ╰─> [58 lines of output]\n",
      "  \u001b[31m   \u001b[0m       running bdist_wheel\n",
      "  \u001b[31m   \u001b[0m       running build\n",
      "  \u001b[31m   \u001b[0m       running build_ext\n",
      "  \u001b[31m   \u001b[0m       Traceback (most recent call last):\n",
      "  \u001b[31m   \u001b[0m         File \"/private/var/folders/82/fv5f10_d7jdd0rm_0603mld80000gn/T/pip-install-fs7p8_yu/qdldl_5d1f3f6957c84f8899ab81990546f3fc/setup.py\", line 78, in build_extensions\n",
      "  \u001b[31m   \u001b[0m           check_output(['cmake', '--version'])\n",
      "  \u001b[31m   \u001b[0m         File \"/opt/homebrew/Cellar/python@3.10/3.10.8/Frameworks/Python.framework/Versions/3.10/lib/python3.10/subprocess.py\", line 421, in check_output\n",
      "  \u001b[31m   \u001b[0m           return run(*popenargs, stdout=PIPE, timeout=timeout, check=True,\n",
      "  \u001b[31m   \u001b[0m         File \"/opt/homebrew/Cellar/python@3.10/3.10.8/Frameworks/Python.framework/Versions/3.10/lib/python3.10/subprocess.py\", line 503, in run\n",
      "  \u001b[31m   \u001b[0m           with Popen(*popenargs, **kwargs) as process:\n",
      "  \u001b[31m   \u001b[0m         File \"/opt/homebrew/Cellar/python@3.10/3.10.8/Frameworks/Python.framework/Versions/3.10/lib/python3.10/subprocess.py\", line 971, in __init__\n",
      "  \u001b[31m   \u001b[0m           self._execute_child(args, executable, preexec_fn, close_fds,\n",
      "  \u001b[31m   \u001b[0m         File \"/opt/homebrew/Cellar/python@3.10/3.10.8/Frameworks/Python.framework/Versions/3.10/lib/python3.10/subprocess.py\", line 1847, in _execute_child\n",
      "  \u001b[31m   \u001b[0m           raise child_exception_type(errno_num, err_msg, err_filename)\n",
      "  \u001b[31m   \u001b[0m       FileNotFoundError: [Errno 2] No such file or directory: 'cmake'\n",
      "  \u001b[31m   \u001b[0m \n",
      "  \u001b[31m   \u001b[0m       During handling of the above exception, another exception occurred:\n",
      "  \u001b[31m   \u001b[0m \n",
      "  \u001b[31m   \u001b[0m       Traceback (most recent call last):\n",
      "  \u001b[31m   \u001b[0m         File \"<string>\", line 2, in <module>\n",
      "  \u001b[31m   \u001b[0m         File \"<pip-setuptools-caller>\", line 34, in <module>\n",
      "  \u001b[31m   \u001b[0m         File \"/private/var/folders/82/fv5f10_d7jdd0rm_0603mld80000gn/T/pip-install-fs7p8_yu/qdldl_5d1f3f6957c84f8899ab81990546f3fc/setup.py\", line 110, in <module>\n",
      "  \u001b[31m   \u001b[0m           setup(name='qdldl',\n",
      "  \u001b[31m   \u001b[0m         File \"/opt/homebrew/lib/python3.10/site-packages/setuptools/__init__.py\", line 87, in setup\n",
      "  \u001b[31m   \u001b[0m           return distutils.core.setup(**attrs)\n",
      "  \u001b[31m   \u001b[0m         File \"/opt/homebrew/lib/python3.10/site-packages/setuptools/_distutils/core.py\", line 185, in setup\n",
      "  \u001b[31m   \u001b[0m           return run_commands(dist)\n",
      "  \u001b[31m   \u001b[0m         File \"/opt/homebrew/lib/python3.10/site-packages/setuptools/_distutils/core.py\", line 201, in run_commands\n",
      "  \u001b[31m   \u001b[0m           dist.run_commands()\n",
      "  \u001b[31m   \u001b[0m         File \"/opt/homebrew/lib/python3.10/site-packages/setuptools/_distutils/dist.py\", line 968, in run_commands\n",
      "  \u001b[31m   \u001b[0m           self.run_command(cmd)\n",
      "  \u001b[31m   \u001b[0m         File \"/opt/homebrew/lib/python3.10/site-packages/setuptools/dist.py\", line 1217, in run_command\n",
      "  \u001b[31m   \u001b[0m           super().run_command(command)\n",
      "  \u001b[31m   \u001b[0m         File \"/opt/homebrew/lib/python3.10/site-packages/setuptools/_distutils/dist.py\", line 987, in run_command\n",
      "  \u001b[31m   \u001b[0m           cmd_obj.run()\n",
      "  \u001b[31m   \u001b[0m         File \"/opt/homebrew/lib/python3.10/site-packages/wheel/bdist_wheel.py\", line 299, in run\n",
      "  \u001b[31m   \u001b[0m           self.run_command('build')\n",
      "  \u001b[31m   \u001b[0m         File \"/opt/homebrew/lib/python3.10/site-packages/setuptools/_distutils/cmd.py\", line 319, in run_command\n",
      "  \u001b[31m   \u001b[0m           self.distribution.run_command(command)\n",
      "  \u001b[31m   \u001b[0m         File \"/opt/homebrew/lib/python3.10/site-packages/setuptools/dist.py\", line 1217, in run_command\n",
      "  \u001b[31m   \u001b[0m           super().run_command(command)\n",
      "  \u001b[31m   \u001b[0m         File \"/opt/homebrew/lib/python3.10/site-packages/setuptools/_distutils/dist.py\", line 987, in run_command\n",
      "  \u001b[31m   \u001b[0m           cmd_obj.run()\n",
      "  \u001b[31m   \u001b[0m         File \"/opt/homebrew/lib/python3.10/site-packages/setuptools/_distutils/command/build.py\", line 132, in run\n",
      "  \u001b[31m   \u001b[0m           self.run_command(cmd_name)\n",
      "  \u001b[31m   \u001b[0m         File \"/opt/homebrew/lib/python3.10/site-packages/setuptools/_distutils/cmd.py\", line 319, in run_command\n",
      "  \u001b[31m   \u001b[0m           self.distribution.run_command(command)\n",
      "  \u001b[31m   \u001b[0m         File \"/opt/homebrew/lib/python3.10/site-packages/setuptools/dist.py\", line 1217, in run_command\n",
      "  \u001b[31m   \u001b[0m           super().run_command(command)\n",
      "  \u001b[31m   \u001b[0m         File \"/opt/homebrew/lib/python3.10/site-packages/setuptools/_distutils/dist.py\", line 987, in run_command\n",
      "  \u001b[31m   \u001b[0m           cmd_obj.run()\n",
      "  \u001b[31m   \u001b[0m         File \"/opt/homebrew/lib/python3.10/site-packages/setuptools/command/build_ext.py\", line 84, in run\n",
      "  \u001b[31m   \u001b[0m           _build_ext.run(self)\n",
      "  \u001b[31m   \u001b[0m         File \"/opt/homebrew/lib/python3.10/site-packages/setuptools/_distutils/command/build_ext.py\", line 346, in run\n",
      "  \u001b[31m   \u001b[0m           self.build_extensions()\n",
      "  \u001b[31m   \u001b[0m         File \"/private/var/folders/82/fv5f10_d7jdd0rm_0603mld80000gn/T/pip-install-fs7p8_yu/qdldl_5d1f3f6957c84f8899ab81990546f3fc/setup.py\", line 80, in build_extensions\n",
      "  \u001b[31m   \u001b[0m           raise RuntimeError(\"CMake must be installed to build qdldl\")\n",
      "  \u001b[31m   \u001b[0m       RuntimeError: CMake must be installed to build qdldl\n",
      "  \u001b[31m   \u001b[0m       [end of output]\n",
      "  \u001b[31m   \u001b[0m \n",
      "  \u001b[31m   \u001b[0m   note: This error originates from a subprocess, and is likely not a problem with pip.\n",
      "  \u001b[31m   \u001b[0m   ERROR: Failed building wheel for qdldl\n",
      "  \u001b[31m   \u001b[0m   Running setup.py clean for qdldl\n",
      "  \u001b[31m   \u001b[0m Failed to build qdldl\n",
      "  \u001b[31m   \u001b[0m Installing collected packages: wheel, typing-extensions, tomli, setuptools, packaging, numpy, setuptools_scm, scipy, oldest-supported-numpy, qdldl\n",
      "  \u001b[31m   \u001b[0m   Running setup.py install for qdldl: started\n",
      "  \u001b[31m   \u001b[0m   Running setup.py install for qdldl: finished with status 'error'\n",
      "  \u001b[31m   \u001b[0m   error: subprocess-exited-with-error\n",
      "  \u001b[31m   \u001b[0m \n",
      "  \u001b[31m   \u001b[0m   × Running setup.py install for qdldl did not run successfully.\n",
      "  \u001b[31m   \u001b[0m   │ exit code: 1\n",
      "  \u001b[31m   \u001b[0m   ╰─> [62 lines of output]\n",
      "  \u001b[31m   \u001b[0m       running install\n",
      "  \u001b[31m   \u001b[0m       /opt/homebrew/lib/python3.10/site-packages/setuptools/command/install.py:34: SetuptoolsDeprecationWarning: setup.py install is deprecated. Use build and pip and other standards-based tools.\n",
      "  \u001b[31m   \u001b[0m         warnings.warn(\n",
      "  \u001b[31m   \u001b[0m       running build\n",
      "  \u001b[31m   \u001b[0m       running build_ext\n",
      "  \u001b[31m   \u001b[0m       Traceback (most recent call last):\n",
      "  \u001b[31m   \u001b[0m         File \"/private/var/folders/82/fv5f10_d7jdd0rm_0603mld80000gn/T/pip-install-fs7p8_yu/qdldl_5d1f3f6957c84f8899ab81990546f3fc/setup.py\", line 78, in build_extensions\n",
      "  \u001b[31m   \u001b[0m           check_output(['cmake', '--version'])\n",
      "  \u001b[31m   \u001b[0m         File \"/opt/homebrew/Cellar/python@3.10/3.10.8/Frameworks/Python.framework/Versions/3.10/lib/python3.10/subprocess.py\", line 421, in check_output\n",
      "  \u001b[31m   \u001b[0m           return run(*popenargs, stdout=PIPE, timeout=timeout, check=True,\n",
      "  \u001b[31m   \u001b[0m         File \"/opt/homebrew/Cellar/python@3.10/3.10.8/Frameworks/Python.framework/Versions/3.10/lib/python3.10/subprocess.py\", line 503, in run\n",
      "  \u001b[31m   \u001b[0m           with Popen(*popenargs, **kwargs) as process:\n",
      "  \u001b[31m   \u001b[0m         File \"/opt/homebrew/Cellar/python@3.10/3.10.8/Frameworks/Python.framework/Versions/3.10/lib/python3.10/subprocess.py\", line 971, in __init__\n",
      "  \u001b[31m   \u001b[0m           self._execute_child(args, executable, preexec_fn, close_fds,\n",
      "  \u001b[31m   \u001b[0m         File \"/opt/homebrew/Cellar/python@3.10/3.10.8/Frameworks/Python.framework/Versions/3.10/lib/python3.10/subprocess.py\", line 1847, in _execute_child\n",
      "  \u001b[31m   \u001b[0m           raise child_exception_type(errno_num, err_msg, err_filename)\n",
      "  \u001b[31m   \u001b[0m       FileNotFoundError: [Errno 2] No such file or directory: 'cmake'\n",
      "  \u001b[31m   \u001b[0m \n",
      "  \u001b[31m   \u001b[0m       During handling of the above exception, another exception occurred:\n",
      "  \u001b[31m   \u001b[0m \n",
      "  \u001b[31m   \u001b[0m       Traceback (most recent call last):\n",
      "  \u001b[31m   \u001b[0m         File \"<string>\", line 2, in <module>\n",
      "  \u001b[31m   \u001b[0m         File \"<pip-setuptools-caller>\", line 34, in <module>\n",
      "  \u001b[31m   \u001b[0m         File \"/private/var/folders/82/fv5f10_d7jdd0rm_0603mld80000gn/T/pip-install-fs7p8_yu/qdldl_5d1f3f6957c84f8899ab81990546f3fc/setup.py\", line 110, in <module>\n",
      "  \u001b[31m   \u001b[0m           setup(name='qdldl',\n",
      "  \u001b[31m   \u001b[0m         File \"/opt/homebrew/lib/python3.10/site-packages/setuptools/__init__.py\", line 87, in setup\n",
      "  \u001b[31m   \u001b[0m           return distutils.core.setup(**attrs)\n",
      "  \u001b[31m   \u001b[0m         File \"/opt/homebrew/lib/python3.10/site-packages/setuptools/_distutils/core.py\", line 185, in setup\n",
      "  \u001b[31m   \u001b[0m           return run_commands(dist)\n",
      "  \u001b[31m   \u001b[0m         File \"/opt/homebrew/lib/python3.10/site-packages/setuptools/_distutils/core.py\", line 201, in run_commands\n",
      "  \u001b[31m   \u001b[0m           dist.run_commands()\n",
      "  \u001b[31m   \u001b[0m         File \"/opt/homebrew/lib/python3.10/site-packages/setuptools/_distutils/dist.py\", line 968, in run_commands\n",
      "  \u001b[31m   \u001b[0m           self.run_command(cmd)\n",
      "  \u001b[31m   \u001b[0m         File \"/opt/homebrew/lib/python3.10/site-packages/setuptools/dist.py\", line 1217, in run_command\n",
      "  \u001b[31m   \u001b[0m           super().run_command(command)\n",
      "  \u001b[31m   \u001b[0m         File \"/opt/homebrew/lib/python3.10/site-packages/setuptools/_distutils/dist.py\", line 987, in run_command\n",
      "  \u001b[31m   \u001b[0m           cmd_obj.run()\n",
      "  \u001b[31m   \u001b[0m         File \"/opt/homebrew/lib/python3.10/site-packages/setuptools/command/install.py\", line 68, in run\n",
      "  \u001b[31m   \u001b[0m           return orig.install.run(self)\n",
      "  \u001b[31m   \u001b[0m         File \"/opt/homebrew/lib/python3.10/site-packages/setuptools/_distutils/command/install.py\", line 698, in run\n",
      "  \u001b[31m   \u001b[0m           self.run_command('build')\n",
      "  \u001b[31m   \u001b[0m         File \"/opt/homebrew/lib/python3.10/site-packages/setuptools/_distutils/cmd.py\", line 319, in run_command\n",
      "  \u001b[31m   \u001b[0m           self.distribution.run_command(command)\n",
      "  \u001b[31m   \u001b[0m         File \"/opt/homebrew/lib/python3.10/site-packages/setuptools/dist.py\", line 1217, in run_command\n",
      "  \u001b[31m   \u001b[0m           super().run_command(command)\n",
      "  \u001b[31m   \u001b[0m         File \"/opt/homebrew/lib/python3.10/site-packages/setuptools/_distutils/dist.py\", line 987, in run_command\n",
      "  \u001b[31m   \u001b[0m           cmd_obj.run()\n",
      "  \u001b[31m   \u001b[0m         File \"/opt/homebrew/lib/python3.10/site-packages/setuptools/_distutils/command/build.py\", line 132, in run\n",
      "  \u001b[31m   \u001b[0m           self.run_command(cmd_name)\n",
      "  \u001b[31m   \u001b[0m         File \"/opt/homebrew/lib/python3.10/site-packages/setuptools/_distutils/cmd.py\", line 319, in run_command\n",
      "  \u001b[31m   \u001b[0m           self.distribution.run_command(command)\n",
      "  \u001b[31m   \u001b[0m         File \"/opt/homebrew/lib/python3.10/site-packages/setuptools/dist.py\", line 1217, in run_command\n",
      "  \u001b[31m   \u001b[0m           super().run_command(command)\n",
      "  \u001b[31m   \u001b[0m         File \"/opt/homebrew/lib/python3.10/site-packages/setuptools/_distutils/dist.py\", line 987, in run_command\n",
      "  \u001b[31m   \u001b[0m           cmd_obj.run()\n",
      "  \u001b[31m   \u001b[0m         File \"/opt/homebrew/lib/python3.10/site-packages/setuptools/command/build_ext.py\", line 84, in run\n",
      "  \u001b[31m   \u001b[0m           _build_ext.run(self)\n",
      "  \u001b[31m   \u001b[0m         File \"/opt/homebrew/lib/python3.10/site-packages/setuptools/_distutils/command/build_ext.py\", line 346, in run\n",
      "  \u001b[31m   \u001b[0m           self.build_extensions()\n",
      "  \u001b[31m   \u001b[0m         File \"/private/var/folders/82/fv5f10_d7jdd0rm_0603mld80000gn/T/pip-install-fs7p8_yu/qdldl_5d1f3f6957c84f8899ab81990546f3fc/setup.py\", line 80, in build_extensions\n",
      "  \u001b[31m   \u001b[0m           raise RuntimeError(\"CMake must be installed to build qdldl\")\n",
      "  \u001b[31m   \u001b[0m       RuntimeError: CMake must be installed to build qdldl\n",
      "  \u001b[31m   \u001b[0m       [end of output]\n",
      "  \u001b[31m   \u001b[0m \n",
      "  \u001b[31m   \u001b[0m   note: This error originates from a subprocess, and is likely not a problem with pip.\n",
      "  \u001b[31m   \u001b[0m error: legacy-install-failure\n",
      "  \u001b[31m   \u001b[0m \n",
      "  \u001b[31m   \u001b[0m × Encountered error while trying to install package.\n",
      "  \u001b[31m   \u001b[0m ╰─> qdldl\n",
      "  \u001b[31m   \u001b[0m \n",
      "  \u001b[31m   \u001b[0m note: This is an issue with the package mentioned above, not pip.\n",
      "  \u001b[31m   \u001b[0m hint: See above for output from the failure.\n",
      "  \u001b[31m   \u001b[0m \u001b[31m[end of output]\u001b[0m\n",
      "  \n",
      "  \u001b[1;35mnote\u001b[0m: This error originates from a subprocess, and is likely not a problem with pip.\n",
      "\u001b[1;31merror\u001b[0m: \u001b[1msubprocess-exited-with-error\u001b[0m\n",
      "\n",
      "\u001b[31m×\u001b[0m \u001b[32mpip subprocess to install build dependencies\u001b[0m did not run successfully.\n",
      "\u001b[31m│\u001b[0m exit code: \u001b[1;36m1\u001b[0m\n",
      "\u001b[31m╰─>\u001b[0m See above for output.\n",
      "\n",
      "\u001b[1;35mnote\u001b[0m: This error originates from a subprocess, and is likely not a problem with pip.\n"
     ]
    },
    {
     "name": "stdout",
     "output_type": "stream",
     "text": [
      "\u001b[?25hNote: you may need to restart the kernel to use updated packages.\n"
     ]
    }
   ],
   "source": [
    "pip install cvxpy"
   ]
  },
  {
   "cell_type": "code",
   "execution_count": 69,
   "id": "ac3473c3",
   "metadata": {
    "scrolled": true
   },
   "outputs": [
    {
     "data": {
      "text/plain": [
       "<gurobi.MLinExpr, 7 rows, 56 cols, 98 nnz>"
      ]
     },
     "execution_count": 69,
     "metadata": {},
     "output_type": "execute_result"
    }
   ],
   "source": [
    "(x - A.T @ k - y) - delta * "
   ]
  },
  {
   "cell_type": "code",
   "execution_count": 62,
   "id": "930f763e",
   "metadata": {},
   "outputs": [
    {
     "ename": "GurobiError",
     "evalue": "Incompatible vector length",
     "output_type": "error",
     "traceback": [
      "\u001b[0;31m---------------------------------------------------------------------------\u001b[0m",
      "\u001b[0;31mGurobiError\u001b[0m                               Traceback (most recent call last)",
      "Cell \u001b[0;32mIn[62], line 1\u001b[0m\n\u001b[0;32m----> 1\u001b[0m (x \u001b[38;5;241m-\u001b[39m \u001b[43mA\u001b[49m\u001b[43m \u001b[49m\u001b[38;5;241;43m@\u001b[39;49m\u001b[43m \u001b[49m\u001b[43mk\u001b[49m)\n",
      "File \u001b[0;32msrc/gurobipy/mvar.pxi:154\u001b[0m, in \u001b[0;36mgurobipy.MVar.__rmatmul__\u001b[0;34m()\u001b[0m\n",
      "File \u001b[0;32msrc/gurobipy/mlinexpr.pxi:35\u001b[0m, in \u001b[0;36mgurobipy.MLinExpr.__init__\u001b[0;34m()\u001b[0m\n",
      "\u001b[0;31mGurobiError\u001b[0m: Incompatible vector length"
     ]
    }
   ],
   "source": [
    "(x - A @ k)"
   ]
  },
  {
   "cell_type": "code",
   "execution_count": 10,
   "id": "746d7d0d",
   "metadata": {},
   "outputs": [],
   "source": [
    "returns = self.prices.pct_change().dropna()\n",
    "        \n",
    "increment = relativedelta(months=1) if rebalance_period == 'M' else relativedelta(weeks=1)\n",
    "\n",
    "ts_index = []\n",
    "weights = []\n",
    "\n",
    "to_add = pd.Timestamp(start_date)"
   ]
  },
  {
   "cell_type": "code",
   "execution_count": 14,
   "id": "756aadce",
   "metadata": {},
   "outputs": [],
   "source": [
    "current_returns = returns[:to_add][:-1]\n",
    "            \n",
    "r = np.array(current_returns.mean())\n",
    "sigma = np.array(current_returns.cov())"
   ]
  },
  {
   "cell_type": "code",
   "execution_count": 44,
   "id": "f582ac53",
   "metadata": {},
   "outputs": [],
   "source": [
    "helper_list = list(combinations(range(n), 2))"
   ]
  },
  {
   "cell_type": "code",
   "execution_count": 45,
   "id": "8b774426",
   "metadata": {},
   "outputs": [
    {
     "data": {
      "text/plain": [
       "[0, 1]"
      ]
     },
     "execution_count": 45,
     "metadata": {},
     "output_type": "execute_result"
    }
   ],
   "source": [
    "[*helper_list[0]]"
   ]
  },
  {
   "cell_type": "code",
   "execution_count": 55,
   "id": "19c2b4a9",
   "metadata": {},
   "outputs": [],
   "source": [
    "def make_A_matrix(returns_df):\n",
    "    n = len(self.coins)\n",
    "\n",
    "    A = np.zeros((n*(n-1), n))\n",
    "\n",
    "    helper_list = list(combinations(range(n), 2))\n",
    "\n",
    "    for i, (c1, c2) in enumerate(combinations(returns_df.columns, 2)):\n",
    "        xr_returns = returns_df[c1] / returns_df[c2]\n",
    "\n",
    "        lb = xr_returns.quantile(0.1)\n",
    "        ub = xr_returns.quantile(0.9)\n",
    "\n",
    "        A[i*2:(i*2)+2,[*helper_list[i]]] = np.array([[-1, lb], [-ub, 1]])\n",
    "    return A"
   ]
  },
  {
   "cell_type": "code",
   "execution_count": 37,
   "id": "b2956276",
   "metadata": {},
   "outputs": [
    {
     "data": {
      "text/html": [
       "<div>\n",
       "<style scoped>\n",
       "    .dataframe tbody tr th:only-of-type {\n",
       "        vertical-align: middle;\n",
       "    }\n",
       "\n",
       "    .dataframe tbody tr th {\n",
       "        vertical-align: top;\n",
       "    }\n",
       "\n",
       "    .dataframe thead th {\n",
       "        text-align: right;\n",
       "    }\n",
       "</style>\n",
       "<table border=\"1\" class=\"dataframe\">\n",
       "  <thead>\n",
       "    <tr style=\"text-align: right;\">\n",
       "      <th></th>\n",
       "      <th>BTCUSDT</th>\n",
       "      <th>MATICUSDT</th>\n",
       "      <th>BNBUSDT</th>\n",
       "      <th>ETHUSDT</th>\n",
       "      <th>DOGEUSDT</th>\n",
       "      <th>ADAUSDT</th>\n",
       "      <th>XRPUSDT</th>\n",
       "    </tr>\n",
       "    <tr>\n",
       "      <th>Close time</th>\n",
       "      <th></th>\n",
       "      <th></th>\n",
       "      <th></th>\n",
       "      <th></th>\n",
       "      <th></th>\n",
       "      <th></th>\n",
       "      <th></th>\n",
       "    </tr>\n",
       "  </thead>\n",
       "  <tbody>\n",
       "    <tr>\n",
       "      <th>2022-06-01 00:00:00</th>\n",
       "      <td>31936.54</td>\n",
       "      <td>0.6680</td>\n",
       "      <td>324.0</td>\n",
       "      <td>1953.90</td>\n",
       "      <td>0.08676</td>\n",
       "      <td>0.6294</td>\n",
       "      <td>0.4254</td>\n",
       "    </tr>\n",
       "    <tr>\n",
       "      <th>2022-06-01 01:00:00</th>\n",
       "      <td>31926.12</td>\n",
       "      <td>0.6620</td>\n",
       "      <td>323.1</td>\n",
       "      <td>1948.40</td>\n",
       "      <td>0.08668</td>\n",
       "      <td>0.6201</td>\n",
       "      <td>0.4242</td>\n",
       "    </tr>\n",
       "    <tr>\n",
       "      <th>2022-06-01 02:00:00</th>\n",
       "      <td>31806.72</td>\n",
       "      <td>0.6550</td>\n",
       "      <td>321.2</td>\n",
       "      <td>1940.46</td>\n",
       "      <td>0.08611</td>\n",
       "      <td>0.6107</td>\n",
       "      <td>0.4196</td>\n",
       "    </tr>\n",
       "    <tr>\n",
       "      <th>2022-06-01 03:00:00</th>\n",
       "      <td>31627.30</td>\n",
       "      <td>0.6460</td>\n",
       "      <td>319.2</td>\n",
       "      <td>1929.97</td>\n",
       "      <td>0.08552</td>\n",
       "      <td>0.6015</td>\n",
       "      <td>0.4172</td>\n",
       "    </tr>\n",
       "    <tr>\n",
       "      <th>2022-06-01 04:00:00</th>\n",
       "      <td>31566.60</td>\n",
       "      <td>0.6480</td>\n",
       "      <td>320.6</td>\n",
       "      <td>1934.44</td>\n",
       "      <td>0.08587</td>\n",
       "      <td>0.6042</td>\n",
       "      <td>0.4187</td>\n",
       "    </tr>\n",
       "    <tr>\n",
       "      <th>...</th>\n",
       "      <td>...</td>\n",
       "      <td>...</td>\n",
       "      <td>...</td>\n",
       "      <td>...</td>\n",
       "      <td>...</td>\n",
       "      <td>...</td>\n",
       "      <td>...</td>\n",
       "    </tr>\n",
       "    <tr>\n",
       "      <th>2022-09-30 19:00:00</th>\n",
       "      <td>19473.52</td>\n",
       "      <td>0.7764</td>\n",
       "      <td>283.9</td>\n",
       "      <td>1337.56</td>\n",
       "      <td>0.06027</td>\n",
       "      <td>0.4310</td>\n",
       "      <td>0.4856</td>\n",
       "    </tr>\n",
       "    <tr>\n",
       "      <th>2022-09-30 20:00:00</th>\n",
       "      <td>19424.31</td>\n",
       "      <td>0.7717</td>\n",
       "      <td>281.9</td>\n",
       "      <td>1331.73</td>\n",
       "      <td>0.06034</td>\n",
       "      <td>0.4306</td>\n",
       "      <td>0.4827</td>\n",
       "    </tr>\n",
       "    <tr>\n",
       "      <th>2022-09-30 21:00:00</th>\n",
       "      <td>19361.07</td>\n",
       "      <td>0.7719</td>\n",
       "      <td>281.4</td>\n",
       "      <td>1323.18</td>\n",
       "      <td>0.06116</td>\n",
       "      <td>0.4312</td>\n",
       "      <td>0.4821</td>\n",
       "    </tr>\n",
       "    <tr>\n",
       "      <th>2022-09-30 22:00:00</th>\n",
       "      <td>19384.86</td>\n",
       "      <td>0.7731</td>\n",
       "      <td>282.0</td>\n",
       "      <td>1322.49</td>\n",
       "      <td>0.06220</td>\n",
       "      <td>0.4325</td>\n",
       "      <td>0.4778</td>\n",
       "    </tr>\n",
       "    <tr>\n",
       "      <th>2022-09-30 23:00:00</th>\n",
       "      <td>19422.61</td>\n",
       "      <td>0.7778</td>\n",
       "      <td>284.8</td>\n",
       "      <td>1328.72</td>\n",
       "      <td>0.06167</td>\n",
       "      <td>0.4347</td>\n",
       "      <td>0.4799</td>\n",
       "    </tr>\n",
       "  </tbody>\n",
       "</table>\n",
       "<p>2928 rows × 7 columns</p>\n",
       "</div>"
      ],
      "text/plain": [
       "                      BTCUSDT  MATICUSDT  BNBUSDT  ETHUSDT  DOGEUSDT  ADAUSDT  \\\n",
       "Close time                                                                      \n",
       "2022-06-01 00:00:00  31936.54     0.6680    324.0  1953.90   0.08676   0.6294   \n",
       "2022-06-01 01:00:00  31926.12     0.6620    323.1  1948.40   0.08668   0.6201   \n",
       "2022-06-01 02:00:00  31806.72     0.6550    321.2  1940.46   0.08611   0.6107   \n",
       "2022-06-01 03:00:00  31627.30     0.6460    319.2  1929.97   0.08552   0.6015   \n",
       "2022-06-01 04:00:00  31566.60     0.6480    320.6  1934.44   0.08587   0.6042   \n",
       "...                       ...        ...      ...      ...       ...      ...   \n",
       "2022-09-30 19:00:00  19473.52     0.7764    283.9  1337.56   0.06027   0.4310   \n",
       "2022-09-30 20:00:00  19424.31     0.7717    281.9  1331.73   0.06034   0.4306   \n",
       "2022-09-30 21:00:00  19361.07     0.7719    281.4  1323.18   0.06116   0.4312   \n",
       "2022-09-30 22:00:00  19384.86     0.7731    282.0  1322.49   0.06220   0.4325   \n",
       "2022-09-30 23:00:00  19422.61     0.7778    284.8  1328.72   0.06167   0.4347   \n",
       "\n",
       "                     XRPUSDT  \n",
       "Close time                    \n",
       "2022-06-01 00:00:00   0.4254  \n",
       "2022-06-01 01:00:00   0.4242  \n",
       "2022-06-01 02:00:00   0.4196  \n",
       "2022-06-01 03:00:00   0.4172  \n",
       "2022-06-01 04:00:00   0.4187  \n",
       "...                      ...  \n",
       "2022-09-30 19:00:00   0.4856  \n",
       "2022-09-30 20:00:00   0.4827  \n",
       "2022-09-30 21:00:00   0.4821  \n",
       "2022-09-30 22:00:00   0.4778  \n",
       "2022-09-30 23:00:00   0.4799  \n",
       "\n",
       "[2928 rows x 7 columns]"
      ]
     },
     "execution_count": 37,
     "metadata": {},
     "output_type": "execute_result"
    }
   ],
   "source": [
    "self.prices"
   ]
  },
  {
   "cell_type": "code",
   "execution_count": 59,
   "id": "7fd074f1",
   "metadata": {},
   "outputs": [
    {
     "data": {
      "text/plain": [
       "array([2, 2, 2, 2, 2, 2, 2, 2, 2, 2, 2, 2, 2, 2, 2, 2, 2, 2, 2, 2, 2, 2,\n",
       "       2, 2, 2, 2, 2, 2, 2, 2, 2, 2, 2, 2, 2, 2, 2, 2, 2, 2, 2, 2])"
      ]
     },
     "execution_count": 59,
     "metadata": {},
     "output_type": "execute_result"
    }
   ],
   "source": []
  },
  {
   "cell_type": "code",
   "execution_count": 40,
   "id": "d22fe6e5",
   "metadata": {},
   "outputs": [
    {
     "data": {
      "text/plain": [
       "1.4506870625484651"
      ]
     },
     "execution_count": 40,
     "metadata": {},
     "output_type": "execute_result"
    }
   ],
   "source": [
    "(current_returns[c1] / current_returns[c2]).quantile(0.9)"
   ]
  },
  {
   "cell_type": "code",
   "execution_count": 21,
   "id": "5a689774",
   "metadata": {},
   "outputs": [],
   "source": [
    "from itertools import combinations"
   ]
  },
  {
   "cell_type": "code",
   "execution_count": 25,
   "id": "fc138a12",
   "metadata": {},
   "outputs": [
    {
     "data": {
      "text/plain": [
       "21"
      ]
     },
     "execution_count": 25,
     "metadata": {},
     "output_type": "execute_result"
    }
   ],
   "source": []
  },
  {
   "cell_type": "code",
   "execution_count": 17,
   "id": "3f22bb65",
   "metadata": {},
   "outputs": [
    {
     "data": {
      "text/html": [
       "<div>\n",
       "<style scoped>\n",
       "    .dataframe tbody tr th:only-of-type {\n",
       "        vertical-align: middle;\n",
       "    }\n",
       "\n",
       "    .dataframe tbody tr th {\n",
       "        vertical-align: top;\n",
       "    }\n",
       "\n",
       "    .dataframe thead th {\n",
       "        text-align: right;\n",
       "    }\n",
       "</style>\n",
       "<table border=\"1\" class=\"dataframe\">\n",
       "  <thead>\n",
       "    <tr style=\"text-align: right;\">\n",
       "      <th></th>\n",
       "      <th>BTCUSDT</th>\n",
       "      <th>MATICUSDT</th>\n",
       "      <th>BNBUSDT</th>\n",
       "      <th>ETHUSDT</th>\n",
       "      <th>DOGEUSDT</th>\n",
       "      <th>ADAUSDT</th>\n",
       "      <th>XRPUSDT</th>\n",
       "    </tr>\n",
       "    <tr>\n",
       "      <th>Close time</th>\n",
       "      <th></th>\n",
       "      <th></th>\n",
       "      <th></th>\n",
       "      <th></th>\n",
       "      <th></th>\n",
       "      <th></th>\n",
       "      <th></th>\n",
       "    </tr>\n",
       "  </thead>\n",
       "  <tbody>\n",
       "    <tr>\n",
       "      <th>2022-06-01 01:00:00</th>\n",
       "      <td>-0.000326</td>\n",
       "      <td>-0.008982</td>\n",
       "      <td>-0.002778</td>\n",
       "      <td>-0.002815</td>\n",
       "      <td>-0.000922</td>\n",
       "      <td>-0.014776</td>\n",
       "      <td>-0.002821</td>\n",
       "    </tr>\n",
       "    <tr>\n",
       "      <th>2022-06-01 02:00:00</th>\n",
       "      <td>-0.003740</td>\n",
       "      <td>-0.010574</td>\n",
       "      <td>-0.005881</td>\n",
       "      <td>-0.004075</td>\n",
       "      <td>-0.006576</td>\n",
       "      <td>-0.015159</td>\n",
       "      <td>-0.010844</td>\n",
       "    </tr>\n",
       "    <tr>\n",
       "      <th>2022-06-01 03:00:00</th>\n",
       "      <td>-0.005641</td>\n",
       "      <td>-0.013740</td>\n",
       "      <td>-0.006227</td>\n",
       "      <td>-0.005406</td>\n",
       "      <td>-0.006852</td>\n",
       "      <td>-0.015065</td>\n",
       "      <td>-0.005720</td>\n",
       "    </tr>\n",
       "    <tr>\n",
       "      <th>2022-06-01 04:00:00</th>\n",
       "      <td>-0.001919</td>\n",
       "      <td>0.003096</td>\n",
       "      <td>0.004386</td>\n",
       "      <td>0.002316</td>\n",
       "      <td>0.004093</td>\n",
       "      <td>0.004489</td>\n",
       "      <td>0.003595</td>\n",
       "    </tr>\n",
       "    <tr>\n",
       "      <th>2022-06-01 05:00:00</th>\n",
       "      <td>0.001764</td>\n",
       "      <td>-0.003086</td>\n",
       "      <td>-0.008110</td>\n",
       "      <td>-0.000321</td>\n",
       "      <td>-0.000932</td>\n",
       "      <td>-0.004800</td>\n",
       "      <td>0.002866</td>\n",
       "    </tr>\n",
       "    <tr>\n",
       "      <th>...</th>\n",
       "      <td>...</td>\n",
       "      <td>...</td>\n",
       "      <td>...</td>\n",
       "      <td>...</td>\n",
       "      <td>...</td>\n",
       "      <td>...</td>\n",
       "      <td>...</td>\n",
       "    </tr>\n",
       "    <tr>\n",
       "      <th>2022-06-30 19:00:00</th>\n",
       "      <td>-0.002452</td>\n",
       "      <td>0.004040</td>\n",
       "      <td>-0.000940</td>\n",
       "      <td>-0.000998</td>\n",
       "      <td>0.000778</td>\n",
       "      <td>0.003153</td>\n",
       "      <td>0.000307</td>\n",
       "    </tr>\n",
       "    <tr>\n",
       "      <th>2022-06-30 20:00:00</th>\n",
       "      <td>-0.009056</td>\n",
       "      <td>-0.013190</td>\n",
       "      <td>-0.006588</td>\n",
       "      <td>-0.009061</td>\n",
       "      <td>-0.016330</td>\n",
       "      <td>-0.010103</td>\n",
       "      <td>-0.028195</td>\n",
       "    </tr>\n",
       "    <tr>\n",
       "      <th>2022-06-30 21:00:00</th>\n",
       "      <td>0.003405</td>\n",
       "      <td>0.014726</td>\n",
       "      <td>0.001421</td>\n",
       "      <td>0.010172</td>\n",
       "      <td>0.003478</td>\n",
       "      <td>0.002268</td>\n",
       "      <td>0.009776</td>\n",
       "    </tr>\n",
       "    <tr>\n",
       "      <th>2022-06-30 22:00:00</th>\n",
       "      <td>0.003971</td>\n",
       "      <td>0.017191</td>\n",
       "      <td>0.008988</td>\n",
       "      <td>0.001801</td>\n",
       "      <td>0.010084</td>\n",
       "      <td>0.010410</td>\n",
       "      <td>0.009994</td>\n",
       "    </tr>\n",
       "    <tr>\n",
       "      <th>2022-06-30 23:00:00</th>\n",
       "      <td>0.055448</td>\n",
       "      <td>0.055312</td>\n",
       "      <td>0.029536</td>\n",
       "      <td>0.046174</td>\n",
       "      <td>0.036344</td>\n",
       "      <td>0.030011</td>\n",
       "      <td>0.026902</td>\n",
       "    </tr>\n",
       "  </tbody>\n",
       "</table>\n",
       "<p>719 rows × 7 columns</p>\n",
       "</div>"
      ],
      "text/plain": [
       "                      BTCUSDT  MATICUSDT   BNBUSDT   ETHUSDT  DOGEUSDT  \\\n",
       "Close time                                                               \n",
       "2022-06-01 01:00:00 -0.000326  -0.008982 -0.002778 -0.002815 -0.000922   \n",
       "2022-06-01 02:00:00 -0.003740  -0.010574 -0.005881 -0.004075 -0.006576   \n",
       "2022-06-01 03:00:00 -0.005641  -0.013740 -0.006227 -0.005406 -0.006852   \n",
       "2022-06-01 04:00:00 -0.001919   0.003096  0.004386  0.002316  0.004093   \n",
       "2022-06-01 05:00:00  0.001764  -0.003086 -0.008110 -0.000321 -0.000932   \n",
       "...                       ...        ...       ...       ...       ...   \n",
       "2022-06-30 19:00:00 -0.002452   0.004040 -0.000940 -0.000998  0.000778   \n",
       "2022-06-30 20:00:00 -0.009056  -0.013190 -0.006588 -0.009061 -0.016330   \n",
       "2022-06-30 21:00:00  0.003405   0.014726  0.001421  0.010172  0.003478   \n",
       "2022-06-30 22:00:00  0.003971   0.017191  0.008988  0.001801  0.010084   \n",
       "2022-06-30 23:00:00  0.055448   0.055312  0.029536  0.046174  0.036344   \n",
       "\n",
       "                      ADAUSDT   XRPUSDT  \n",
       "Close time                               \n",
       "2022-06-01 01:00:00 -0.014776 -0.002821  \n",
       "2022-06-01 02:00:00 -0.015159 -0.010844  \n",
       "2022-06-01 03:00:00 -0.015065 -0.005720  \n",
       "2022-06-01 04:00:00  0.004489  0.003595  \n",
       "2022-06-01 05:00:00 -0.004800  0.002866  \n",
       "...                       ...       ...  \n",
       "2022-06-30 19:00:00  0.003153  0.000307  \n",
       "2022-06-30 20:00:00 -0.010103 -0.028195  \n",
       "2022-06-30 21:00:00  0.002268  0.009776  \n",
       "2022-06-30 22:00:00  0.010410  0.009994  \n",
       "2022-06-30 23:00:00  0.030011  0.026902  \n",
       "\n",
       "[719 rows x 7 columns]"
      ]
     },
     "execution_count": 17,
     "metadata": {},
     "output_type": "execute_result"
    }
   ],
   "source": [
    "current_returns"
   ]
  },
  {
   "cell_type": "code",
   "execution_count": 15,
   "id": "c0ba44e8",
   "metadata": {},
   "outputs": [
    {
     "data": {
      "text/plain": [
       "['BTC', 'MATIC', 'BNB', 'ETH', 'DOGE', 'ADA', 'XRP']"
      ]
     },
     "execution_count": 15,
     "metadata": {},
     "output_type": "execute_result"
    }
   ],
   "source": [
    "coins"
   ]
  },
  {
   "cell_type": "code",
   "execution_count": 9,
   "id": "32929001",
   "metadata": {},
   "outputs": [
    {
     "data": {
      "text/plain": [
       "<gurobi.Model Continuous instance robust optimization model: 0 constrs, 0 vars, No parameter changes>"
      ]
     },
     "execution_count": 9,
     "metadata": {},
     "output_type": "execute_result"
    }
   ],
   "source": [
    "model.set_objective()"
   ]
  },
  {
   "cell_type": "code",
   "execution_count": 24,
   "id": "7f1653ad",
   "metadata": {},
   "outputs": [],
   "source": [
    "returns = total_portfolio.pct_change()\n",
    "        \n",
    "ann_mean = returns.mean() * 24 * 365"
   ]
  },
  {
   "cell_type": "code",
   "execution_count": 32,
   "id": "987a8073",
   "metadata": {},
   "outputs": [],
   "source": [
    "returns = total_portfolio.resample('1D').first().pct_change()"
   ]
  },
  {
   "cell_type": "code",
   "execution_count": 33,
   "id": "e327063f",
   "metadata": {},
   "outputs": [],
   "source": [
    "ann_mean = returns.mean() * 365"
   ]
  },
  {
   "cell_type": "code",
   "execution_count": 34,
   "id": "572a88e0",
   "metadata": {},
   "outputs": [
    {
     "data": {
      "text/plain": [
       "0.8029661549830535"
      ]
     },
     "execution_count": 34,
     "metadata": {},
     "output_type": "execute_result"
    }
   ],
   "source": [
    "ann_mean"
   ]
  },
  {
   "cell_type": "code",
   "execution_count": 20,
   "id": "1d691b8d",
   "metadata": {},
   "outputs": [],
   "source": [
    "a = (total_portfolio.index[-1] - total_portfolio.index[0]).days / 365"
   ]
  },
  {
   "cell_type": "code",
   "execution_count": 23,
   "id": "6f32fec0",
   "metadata": {},
   "outputs": [
    {
     "data": {
      "text/plain": [
       "0.1655306844698876"
      ]
     },
     "execution_count": 23,
     "metadata": {},
     "output_type": "execute_result"
    }
   ],
   "source": [
    "((total_portfolio.iloc[-1] / total_portfolio.iloc[0]) - 1)"
   ]
  }
 ],
 "metadata": {
  "kernelspec": {
   "display_name": "Python 3 (ipykernel)",
   "language": "python",
   "name": "python3"
  },
  "language_info": {
   "codemirror_mode": {
    "name": "ipython",
    "version": 3
   },
   "file_extension": ".py",
   "mimetype": "text/x-python",
   "name": "python",
   "nbconvert_exporter": "python",
   "pygments_lexer": "ipython3",
   "version": "3.10.8"
  }
 },
 "nbformat": 4,
 "nbformat_minor": 5
}
